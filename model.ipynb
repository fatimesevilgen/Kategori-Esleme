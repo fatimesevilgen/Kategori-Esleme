{
 "cells": [
  {
   "cell_type": "code",
   "execution_count": 1,
   "id": "3dcdb117",
   "metadata": {},
   "outputs": [],
   "source": [
    "from sentence_transformers import SentenceTransformer, util\n",
    "import torch"
   ]
  },
  {
   "cell_type": "code",
   "execution_count": 2,
   "id": "ed31434a",
   "metadata": {},
   "outputs": [],
   "source": [
    "model = SentenceTransformer('paraphrase-multilingual-MiniLM-L12-v2') # hem Türkçe hem İngilizce icin uygun"
   ]
  },
  {
   "cell_type": "code",
   "execution_count": 3,
   "id": "186084cf",
   "metadata": {},
   "outputs": [],
   "source": [
    "categories = {\n",
    "    \"Music\": \"Music events, concerts, jazz, live performances, müzik etkinlikleri, konserler, canlı sahne, caz, rock, sahne, sahne ışıkları, müzik grubu, şarkıcı, DJ performansı\",\n",
    "    \"Technology\": \"Tech events, innovation, software, startups, AI, teknoloji etkinlikleri, yapay zeka, girişimler, yazılım, inovasyon\",\n",
    "    \"Food & Drink\": \"Food tasting, culinary events, gastronomi, içecek tadımı, yemek atölyeleri, cooking classes, wine, mezeler, restoran, kokteyl\",\n",
    "    \"Art & Culture\": \"Art exhibitions, cultural events, sanat sergileri, kültürel etkinlikler, resim, heykel, edebiyat, film gösterimi, tiyatro, sahne sanatları\",\n",
    "    \"Sports\": \"Sports events, matches, tournaments, fitness, koşu, futbol, spor karşılaşmaları, basketbol, yüzme, yarış\",\n",
    "    \"Travel\": \"Travel, tourism, gezi planları, yurt dışı etkinlikleri, keşif gezileri, tours, hiking, trekking\",\n",
    "    \"Education\": \"Seminars, workshops, eğitim, öğrenme, okul etkinlikleri, akademi, üniversite, sertifika programları\",\n",
    "    \"Health & Wellness\": \"Yoga, meditation, fitness, sağlıklı yaşam, wellness, beslenme, egzersiz, ruh sağlığı, nefes terapisi\",\n",
    "    \"Other\": \"General, diğer, çeşitli, farklı kategori, belirli olmayan etkinlikler, uncategorized\"\n",
    "}\n"
   ]
  },
  {
   "cell_type": "code",
   "execution_count": 4,
   "id": "9571c31e",
   "metadata": {},
   "outputs": [],
   "source": [
    "user_input = \"müzik\"\n",
    "user_embedding = model.encode(user_input, convert_to_tensor=True)"
   ]
  },
  {
   "cell_type": "code",
   "execution_count": null,
   "id": "b4e677f1",
   "metadata": {},
   "outputs": [],
   "source": [
    "category_names = list(categories.keys())\n",
    "category_texts = list(categories.values())\n",
    "category_embeddings = model.encode(category_texts, convert_to_tensor=True)\n",
    "\n",
    "# Cosine benzerliğini hesapla\n",
    "cosine_scores = util.cos_sim(user_embedding, category_embeddings)"
   ]
  },
  {
   "cell_type": "code",
   "execution_count": null,
   "id": "adb414c7",
   "metadata": {},
   "outputs": [
    {
     "name": "stdout",
     "output_type": "stream",
     "text": [
      "\n",
      "📝 Girdi: müzik\n",
      "🎯 Tahmin edilen kategori: Music\n",
      "📊 Benzerlik skoru: 0.4298\n"
     ]
    }
   ],
   "source": [
    "# En yakın kategoriyi bul\n",
    "best_match_idx = torch.argmax(cosine_scores).item()\n",
    "best_category = category_names[best_match_idx]\n",
    "best_score = cosine_scores[0][best_match_idx].item()\n",
    "\n",
    "print(f\"Girdi: {user_input}\")\n",
    "print(f\"Tahmin edilen kategori: {best_category}\")\n",
    "print(f\"Benzerlik skoru: {best_score:.4f}\")"
   ]
  }
 ],
 "metadata": {
  "kernelspec": {
   "display_name": "base",
   "language": "python",
   "name": "python3"
  },
  "language_info": {
   "codemirror_mode": {
    "name": "ipython",
    "version": 3
   },
   "file_extension": ".py",
   "mimetype": "text/x-python",
   "name": "python",
   "nbconvert_exporter": "python",
   "pygments_lexer": "ipython3",
   "version": "3.12.7"
  }
 },
 "nbformat": 4,
 "nbformat_minor": 5
}
